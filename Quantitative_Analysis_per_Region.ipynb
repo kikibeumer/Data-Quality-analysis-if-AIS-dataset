{
 "cells": [
  {
   "cell_type": "markdown",
   "metadata": {},
   "source": [
    "Quantitative Analysis (per Region)"
   ]
  },
  {
   "cell_type": "markdown",
   "metadata": {},
   "source": [
    "Run this file in the python environment"
   ]
  },
  {
   "cell_type": "markdown",
   "metadata": {},
   "source": [
    "__________________________________________________"
   ]
  },
  {
   "cell_type": "markdown",
   "metadata": {},
   "source": [
    "Import the csv datafile here."
   ]
  },
  {
   "cell_type": "markdown",
   "metadata": {},
   "source": [
    "In the file explorer right click the dataset and copy path, then paste between the \"...\""
   ]
  },
  {
   "cell_type": "markdown",
   "metadata": {},
   "source": [
    "Any backslashes should be replaced by double backslash."
   ]
  },
  {
   "cell_type": "markdown",
   "metadata": {},
   "source": [
    "Make sure that the csv file is seperated by commas."
   ]
  },
  {
   "cell_type": "code",
   "execution_count": 16,
   "metadata": {},
   "outputs": [
    {
     "name": "stderr",
     "output_type": "stream",
     "text": [
      "C:\\Users\\CYTech Student\\AppData\\Local\\Temp\\ipykernel_8684\\11124247.py:3: DtypeWarning: Columns (4,9) have mixed types. Specify dtype option on import or set low_memory=False.\n",
      "  ais = pd.read_csv(\"Dataset.csv\",sep=\",\") # Paste the datafile here\n"
     ]
    },
    {
     "data": {
      "text/html": [
       "<div>\n",
       "<style scoped>\n",
       "    .dataframe tbody tr th:only-of-type {\n",
       "        vertical-align: middle;\n",
       "    }\n",
       "\n",
       "    .dataframe tbody tr th {\n",
       "        vertical-align: top;\n",
       "    }\n",
       "\n",
       "    .dataframe thead th {\n",
       "        text-align: right;\n",
       "    }\n",
       "</style>\n",
       "<table border=\"1\" class=\"dataframe\">\n",
       "  <thead>\n",
       "    <tr style=\"text-align: right;\">\n",
       "      <th></th>\n",
       "      <th>Timestamp</th>\n",
       "      <th>Packet Type</th>\n",
       "      <th>Channel</th>\n",
       "      <th>Message Type</th>\n",
       "      <th>MMSI</th>\n",
       "      <th>Navigation Status</th>\n",
       "      <th>Repeat Indicator</th>\n",
       "      <th>IMO</th>\n",
       "      <th>ROT</th>\n",
       "      <th>SOG</th>\n",
       "      <th>...</th>\n",
       "      <th>ETA</th>\n",
       "      <th>A</th>\n",
       "      <th>B</th>\n",
       "      <th>C</th>\n",
       "      <th>D</th>\n",
       "      <th>Prop message 1</th>\n",
       "      <th>Prop message 2</th>\n",
       "      <th>Prop message 3</th>\n",
       "      <th>Prop message 4</th>\n",
       "      <th>Prop message 5</th>\n",
       "    </tr>\n",
       "  </thead>\n",
       "  <tbody>\n",
       "    <tr>\n",
       "      <th>0</th>\n",
       "      <td>2023-10-28 07:17:51.000</td>\n",
       "      <td>BSVDM</td>\n",
       "      <td>A</td>\n",
       "      <td>1.0</td>\n",
       "      <td>353246000</td>\n",
       "      <td>Underway using engine</td>\n",
       "      <td>0.0</td>\n",
       "      <td>0.0</td>\n",
       "      <td>0.0</td>\n",
       "      <td>12.5</td>\n",
       "      <td>...</td>\n",
       "      <td>NaN</td>\n",
       "      <td>0.0</td>\n",
       "      <td>0.0</td>\n",
       "      <td>0.0</td>\n",
       "      <td>0.0</td>\n",
       "      <td>NaN</td>\n",
       "      <td>NaN</td>\n",
       "      <td>NaN</td>\n",
       "      <td>NaN</td>\n",
       "      <td>NaN</td>\n",
       "    </tr>\n",
       "    <tr>\n",
       "      <th>1</th>\n",
       "      <td>2023-10-28 07:17:51.278</td>\n",
       "      <td>BSVDO</td>\n",
       "      <td>A</td>\n",
       "      <td>4.0</td>\n",
       "      <td>2579991</td>\n",
       "      <td>NaN</td>\n",
       "      <td>0.0</td>\n",
       "      <td>0.0</td>\n",
       "      <td>NaN</td>\n",
       "      <td>NaN</td>\n",
       "      <td>...</td>\n",
       "      <td>2023-10-28 07:12:19</td>\n",
       "      <td>0.0</td>\n",
       "      <td>0.0</td>\n",
       "      <td>0.0</td>\n",
       "      <td>0.0</td>\n",
       "      <td>NaN</td>\n",
       "      <td>NaN</td>\n",
       "      <td>NaN</td>\n",
       "      <td>NaN</td>\n",
       "      <td>NaN</td>\n",
       "    </tr>\n",
       "    <tr>\n",
       "      <th>2</th>\n",
       "      <td>2023-10-28 07:17:52.488</td>\n",
       "      <td>BSADS</td>\n",
       "      <td>NaN</td>\n",
       "      <td>NaN</td>\n",
       "      <td>NaN</td>\n",
       "      <td>NaN</td>\n",
       "      <td>NaN</td>\n",
       "      <td>NaN</td>\n",
       "      <td>NaN</td>\n",
       "      <td>NaN</td>\n",
       "      <td>...</td>\n",
       "      <td>NaN</td>\n",
       "      <td>NaN</td>\n",
       "      <td>NaN</td>\n",
       "      <td>NaN</td>\n",
       "      <td>NaN</td>\n",
       "      <td>STX564855481005</td>\n",
       "      <td>71220.0</td>\n",
       "      <td>V</td>\n",
       "      <td>0.0</td>\n",
       "      <td>I</td>\n",
       "    </tr>\n",
       "    <tr>\n",
       "      <th>3</th>\n",
       "      <td>2023-10-28 07:17:52.657</td>\n",
       "      <td>BSVDM</td>\n",
       "      <td>A</td>\n",
       "      <td>1.0</td>\n",
       "      <td>431697000</td>\n",
       "      <td>Underway using engine</td>\n",
       "      <td>0.0</td>\n",
       "      <td>0.0</td>\n",
       "      <td>0.0</td>\n",
       "      <td>11.3</td>\n",
       "      <td>...</td>\n",
       "      <td>NaN</td>\n",
       "      <td>0.0</td>\n",
       "      <td>0.0</td>\n",
       "      <td>0.0</td>\n",
       "      <td>0.0</td>\n",
       "      <td>NaN</td>\n",
       "      <td>NaN</td>\n",
       "      <td>NaN</td>\n",
       "      <td>NaN</td>\n",
       "      <td>NaN</td>\n",
       "    </tr>\n",
       "    <tr>\n",
       "      <th>4</th>\n",
       "      <td>2023-10-28 07:17:53.519</td>\n",
       "      <td>PSTXI</td>\n",
       "      <td>NaN</td>\n",
       "      <td>NaN</td>\n",
       "      <td>NaN</td>\n",
       "      <td>NaN</td>\n",
       "      <td>NaN</td>\n",
       "      <td>NaN</td>\n",
       "      <td>NaN</td>\n",
       "      <td>NaN</td>\n",
       "      <td>...</td>\n",
       "      <td>NaN</td>\n",
       "      <td>NaN</td>\n",
       "      <td>NaN</td>\n",
       "      <td>NaN</td>\n",
       "      <td>NaN</td>\n",
       "      <td>INFO</td>\n",
       "      <td>2.0</td>\n",
       "      <td>0</td>\n",
       "      <td>0.0</td>\n",
       "      <td>1</td>\n",
       "    </tr>\n",
       "  </tbody>\n",
       "</table>\n",
       "<p>5 rows × 34 columns</p>\n",
       "</div>"
      ],
      "text/plain": [
       "                 Timestamp Packet Type Channel  Message Type       MMSI  \\\n",
       "0  2023-10-28 07:17:51.000       BSVDM       A           1.0  353246000   \n",
       "1  2023-10-28 07:17:51.278       BSVDO       A           4.0    2579991   \n",
       "2  2023-10-28 07:17:52.488       BSADS     NaN           NaN        NaN   \n",
       "3  2023-10-28 07:17:52.657       BSVDM       A           1.0  431697000   \n",
       "4  2023-10-28 07:17:53.519       PSTXI     NaN           NaN        NaN   \n",
       "\n",
       "       Navigation Status  Repeat Indicator  IMO  ROT   SOG  ...  \\\n",
       "0  Underway using engine               0.0  0.0  0.0  12.5  ...   \n",
       "1                    NaN               0.0  0.0  NaN   NaN  ...   \n",
       "2                    NaN               NaN  NaN  NaN   NaN  ...   \n",
       "3  Underway using engine               0.0  0.0  0.0  11.3  ...   \n",
       "4                    NaN               NaN  NaN  NaN   NaN  ...   \n",
       "\n",
       "                   ETA    A    B    C    D   Prop message 1 Prop message 2  \\\n",
       "0                  NaN  0.0  0.0  0.0  0.0              NaN            NaN   \n",
       "1  2023-10-28 07:12:19  0.0  0.0  0.0  0.0              NaN            NaN   \n",
       "2                  NaN  NaN  NaN  NaN  NaN  STX564855481005        71220.0   \n",
       "3                  NaN  0.0  0.0  0.0  0.0              NaN            NaN   \n",
       "4                  NaN  NaN  NaN  NaN  NaN             INFO            2.0   \n",
       "\n",
       "   Prop message 3  Prop message 4  Prop message 5  \n",
       "0             NaN             NaN             NaN  \n",
       "1             NaN             NaN             NaN  \n",
       "2               V             0.0               I  \n",
       "3             NaN             NaN             NaN  \n",
       "4               0             0.0               1  \n",
       "\n",
       "[5 rows x 34 columns]"
      ]
     },
     "execution_count": 16,
     "metadata": {},
     "output_type": "execute_result"
    }
   ],
   "source": [
    "import pandas as pd\n",
    "\n",
    "ais = pd.read_csv(\"Dataset.csv\",sep=\",\") # Paste the datafile here\n",
    "ais.head()"
   ]
  },
  {
   "cell_type": "markdown",
   "metadata": {},
   "source": [
    "The columns needed for this analysis are: \"Region\" from maidenhead library, \"Timestamp\" and a quantitative variable (here I use \"Draught\")"
   ]
  },
  {
   "cell_type": "markdown",
   "metadata": {},
   "source": [
    "Check the number of rows were loaded in the dataset."
   ]
  },
  {
   "cell_type": "code",
   "execution_count": 17,
   "metadata": {},
   "outputs": [
    {
     "data": {
      "text/plain": [
       "(6599735, 34)"
      ]
     },
     "execution_count": 17,
     "metadata": {},
     "output_type": "execute_result"
    }
   ],
   "source": [
    "ais.shape"
   ]
  },
  {
   "cell_type": "markdown",
   "metadata": {},
   "source": [
    "Check if the columns are of the right datatype"
   ]
  },
  {
   "cell_type": "code",
   "execution_count": 18,
   "metadata": {},
   "outputs": [
    {
     "data": {
      "text/plain": [
       "Timestamp              object\n",
       "Packet Type            object\n",
       "Channel                object\n",
       "Message Type          float64\n",
       "MMSI                   object\n",
       "Navigation Status      object\n",
       "Repeat Indicator      float64\n",
       "IMO                   float64\n",
       "ROT                   float64\n",
       "SOG                    object\n",
       "COG                   float64\n",
       "Position Accuracy      object\n",
       "Longitude             float64\n",
       "Latitude              float64\n",
       "Region                 object\n",
       "Vessel name            object\n",
       "Ship type              object\n",
       "True Heading          float64\n",
       "Radio status          float64\n",
       "Destination           float64\n",
       "Maneuver Indicator     object\n",
       "Draught               float64\n",
       "Position fix type      object\n",
       "Call sign              object\n",
       "ETA                    object\n",
       "A                     float64\n",
       "B                     float64\n",
       "C                     float64\n",
       "D                     float64\n",
       "Prop message 1         object\n",
       "Prop message 2        float64\n",
       "Prop message 3         object\n",
       "Prop message 4        float64\n",
       "Prop message 5         object\n",
       "dtype: object"
      ]
     },
     "execution_count": 18,
     "metadata": {},
     "output_type": "execute_result"
    }
   ],
   "source": [
    "ais.dtypes"
   ]
  },
  {
   "cell_type": "markdown",
   "metadata": {},
   "source": [
    "Subset the dataset for just one specific region"
   ]
  },
  {
   "cell_type": "code",
   "execution_count": 25,
   "metadata": {},
   "outputs": [
    {
     "name": "stdout",
     "output_type": "stream",
     "text": [
      "['QH69' nan 'QH58' 'QH68' 'QH59' 'QI60' 'QI61' 'QH57' 'QI70' 'QI50' 'QI51'\n",
      " 'QI25' 'QI23' 'QH49' 'TH49' 'RM89' 'QH79' 'QH48' 'QI42' 'QH78' 'QH56'\n",
      " 'QI40' 'TH48' 'OI81']\n"
     ]
    }
   ],
   "source": [
    "#Check for unique values for the region\n",
    "print(ais['Region'].unique())"
   ]
  },
  {
   "cell_type": "code",
   "execution_count": 26,
   "metadata": {},
   "outputs": [],
   "source": [
    "ais_subset = ais[ais[\"Region\"]=='QH69']"
   ]
  },
  {
   "cell_type": "code",
   "execution_count": 27,
   "metadata": {},
   "outputs": [
    {
     "data": {
      "text/html": [
       "<div>\n",
       "<style scoped>\n",
       "    .dataframe tbody tr th:only-of-type {\n",
       "        vertical-align: middle;\n",
       "    }\n",
       "\n",
       "    .dataframe tbody tr th {\n",
       "        vertical-align: top;\n",
       "    }\n",
       "\n",
       "    .dataframe thead th {\n",
       "        text-align: right;\n",
       "    }\n",
       "</style>\n",
       "<table border=\"1\" class=\"dataframe\">\n",
       "  <thead>\n",
       "    <tr style=\"text-align: right;\">\n",
       "      <th></th>\n",
       "      <th>Timestamp</th>\n",
       "      <th>Packet Type</th>\n",
       "      <th>Channel</th>\n",
       "      <th>Message Type</th>\n",
       "      <th>MMSI</th>\n",
       "      <th>Navigation Status</th>\n",
       "      <th>Repeat Indicator</th>\n",
       "      <th>IMO</th>\n",
       "      <th>ROT</th>\n",
       "      <th>SOG</th>\n",
       "      <th>...</th>\n",
       "      <th>ETA</th>\n",
       "      <th>A</th>\n",
       "      <th>B</th>\n",
       "      <th>C</th>\n",
       "      <th>D</th>\n",
       "      <th>Prop message 1</th>\n",
       "      <th>Prop message 2</th>\n",
       "      <th>Prop message 3</th>\n",
       "      <th>Prop message 4</th>\n",
       "      <th>Prop message 5</th>\n",
       "    </tr>\n",
       "  </thead>\n",
       "  <tbody>\n",
       "    <tr>\n",
       "      <th>0</th>\n",
       "      <td>2023-10-28 07:17:51.000</td>\n",
       "      <td>BSVDM</td>\n",
       "      <td>A</td>\n",
       "      <td>1.0</td>\n",
       "      <td>353246000</td>\n",
       "      <td>Underway using engine</td>\n",
       "      <td>0.0</td>\n",
       "      <td>0.0</td>\n",
       "      <td>0.0</td>\n",
       "      <td>12.5</td>\n",
       "      <td>...</td>\n",
       "      <td>NaN</td>\n",
       "      <td>0.0</td>\n",
       "      <td>0.0</td>\n",
       "      <td>0.0</td>\n",
       "      <td>0.0</td>\n",
       "      <td>NaN</td>\n",
       "      <td>NaN</td>\n",
       "      <td>NaN</td>\n",
       "      <td>NaN</td>\n",
       "      <td>NaN</td>\n",
       "    </tr>\n",
       "    <tr>\n",
       "      <th>1</th>\n",
       "      <td>2023-10-28 07:17:51.278</td>\n",
       "      <td>BSVDO</td>\n",
       "      <td>A</td>\n",
       "      <td>4.0</td>\n",
       "      <td>2579991</td>\n",
       "      <td>NaN</td>\n",
       "      <td>0.0</td>\n",
       "      <td>0.0</td>\n",
       "      <td>NaN</td>\n",
       "      <td>NaN</td>\n",
       "      <td>...</td>\n",
       "      <td>2023-10-28 07:12:19</td>\n",
       "      <td>0.0</td>\n",
       "      <td>0.0</td>\n",
       "      <td>0.0</td>\n",
       "      <td>0.0</td>\n",
       "      <td>NaN</td>\n",
       "      <td>NaN</td>\n",
       "      <td>NaN</td>\n",
       "      <td>NaN</td>\n",
       "      <td>NaN</td>\n",
       "    </tr>\n",
       "    <tr>\n",
       "      <th>3</th>\n",
       "      <td>2023-10-28 07:17:52.657</td>\n",
       "      <td>BSVDM</td>\n",
       "      <td>A</td>\n",
       "      <td>1.0</td>\n",
       "      <td>431697000</td>\n",
       "      <td>Underway using engine</td>\n",
       "      <td>0.0</td>\n",
       "      <td>0.0</td>\n",
       "      <td>0.0</td>\n",
       "      <td>11.3</td>\n",
       "      <td>...</td>\n",
       "      <td>NaN</td>\n",
       "      <td>0.0</td>\n",
       "      <td>0.0</td>\n",
       "      <td>0.0</td>\n",
       "      <td>0.0</td>\n",
       "      <td>NaN</td>\n",
       "      <td>NaN</td>\n",
       "      <td>NaN</td>\n",
       "      <td>NaN</td>\n",
       "      <td>NaN</td>\n",
       "    </tr>\n",
       "    <tr>\n",
       "      <th>7</th>\n",
       "      <td>2023-10-28 07:18:00.457</td>\n",
       "      <td>BSVDM</td>\n",
       "      <td>B</td>\n",
       "      <td>1.0</td>\n",
       "      <td>353246000</td>\n",
       "      <td>Underway using engine</td>\n",
       "      <td>0.0</td>\n",
       "      <td>0.0</td>\n",
       "      <td>0.0</td>\n",
       "      <td>12.5</td>\n",
       "      <td>...</td>\n",
       "      <td>NaN</td>\n",
       "      <td>0.0</td>\n",
       "      <td>0.0</td>\n",
       "      <td>0.0</td>\n",
       "      <td>0.0</td>\n",
       "      <td>NaN</td>\n",
       "      <td>NaN</td>\n",
       "      <td>NaN</td>\n",
       "      <td>NaN</td>\n",
       "      <td>NaN</td>\n",
       "    </tr>\n",
       "    <tr>\n",
       "      <th>8</th>\n",
       "      <td>2023-10-28 07:18:01.242</td>\n",
       "      <td>BSVDO</td>\n",
       "      <td>B</td>\n",
       "      <td>4.0</td>\n",
       "      <td>2579991</td>\n",
       "      <td>NaN</td>\n",
       "      <td>0.0</td>\n",
       "      <td>0.0</td>\n",
       "      <td>NaN</td>\n",
       "      <td>NaN</td>\n",
       "      <td>...</td>\n",
       "      <td>2023-10-28 07:12:29</td>\n",
       "      <td>0.0</td>\n",
       "      <td>0.0</td>\n",
       "      <td>0.0</td>\n",
       "      <td>0.0</td>\n",
       "      <td>NaN</td>\n",
       "      <td>NaN</td>\n",
       "      <td>NaN</td>\n",
       "      <td>NaN</td>\n",
       "      <td>NaN</td>\n",
       "    </tr>\n",
       "  </tbody>\n",
       "</table>\n",
       "<p>5 rows × 34 columns</p>\n",
       "</div>"
      ],
      "text/plain": [
       "                 Timestamp Packet Type Channel  Message Type       MMSI  \\\n",
       "0  2023-10-28 07:17:51.000       BSVDM       A           1.0  353246000   \n",
       "1  2023-10-28 07:17:51.278       BSVDO       A           4.0    2579991   \n",
       "3  2023-10-28 07:17:52.657       BSVDM       A           1.0  431697000   \n",
       "7  2023-10-28 07:18:00.457       BSVDM       B           1.0  353246000   \n",
       "8  2023-10-28 07:18:01.242       BSVDO       B           4.0    2579991   \n",
       "\n",
       "       Navigation Status  Repeat Indicator  IMO  ROT   SOG  ...  \\\n",
       "0  Underway using engine               0.0  0.0  0.0  12.5  ...   \n",
       "1                    NaN               0.0  0.0  NaN   NaN  ...   \n",
       "3  Underway using engine               0.0  0.0  0.0  11.3  ...   \n",
       "7  Underway using engine               0.0  0.0  0.0  12.5  ...   \n",
       "8                    NaN               0.0  0.0  NaN   NaN  ...   \n",
       "\n",
       "                   ETA    A    B    C    D Prop message 1 Prop message 2  \\\n",
       "0                  NaN  0.0  0.0  0.0  0.0            NaN            NaN   \n",
       "1  2023-10-28 07:12:19  0.0  0.0  0.0  0.0            NaN            NaN   \n",
       "3                  NaN  0.0  0.0  0.0  0.0            NaN            NaN   \n",
       "7                  NaN  0.0  0.0  0.0  0.0            NaN            NaN   \n",
       "8  2023-10-28 07:12:29  0.0  0.0  0.0  0.0            NaN            NaN   \n",
       "\n",
       "   Prop message 3  Prop message 4  Prop message 5  \n",
       "0             NaN             NaN             NaN  \n",
       "1             NaN             NaN             NaN  \n",
       "3             NaN             NaN             NaN  \n",
       "7             NaN             NaN             NaN  \n",
       "8             NaN             NaN             NaN  \n",
       "\n",
       "[5 rows x 34 columns]"
      ]
     },
     "execution_count": 27,
     "metadata": {},
     "output_type": "execute_result"
    }
   ],
   "source": [
    "ais_subset.head()"
   ]
  },
  {
   "cell_type": "markdown",
   "metadata": {},
   "source": [
    "Create a histogram of the quantitative variable you are interested in. Ensure that that corlumn in numerical."
   ]
  },
  {
   "cell_type": "code",
   "execution_count": 28,
   "metadata": {},
   "outputs": [
    {
     "data": {
      "image/png": "[encoded data removed]",
      "text/plain": [
       "<Figure size 640x480 with 1 Axes>"
      ]
     },
     "metadata": {},
     "output_type": "display_data"
    }
   ],
   "source": [
    "import matplotlib.pyplot as plt\n",
    "import seaborn as sns\n",
    "\n",
    "# Exchange 'Draught' with any other column name\n",
    "ais_subset = ais_subset.dropna(subset='Draught') # Remove 'NaN' values\n",
    "ais_subset = ais_subset[ais_subset['Draught'] != 0.0] #Remove zero values\n",
    "\n",
    "#Create histogram\n",
    "sns.set_theme(style=\"darkgrid\")\n",
    "sns.histplot(data=ais_subset, x=\"Draught\", kde=True)\n",
    "\n",
    "# Change title, x labepl, y label of the histogram\n",
    "plt.title('Histogram Example')\n",
    "plt.xlabel('Value')\n",
    "plt.ylabel('Frequency')\n",
    "plt.show()"
   ]
  },
  {
   "cell_type": "markdown",
   "metadata": {},
   "source": [
    "Get statistics of the variable"
   ]
  },
  {
   "cell_type": "code",
   "execution_count": 21,
   "metadata": {},
   "outputs": [
    {
     "name": "stdout",
     "output_type": "stream",
     "text": [
      "Mean: nan\n",
      "Standard deviation: nan\n",
      "Minimum: nan\n",
      "Maximum: nan\n"
     ]
    }
   ],
   "source": [
    "print(f\"Mean: {ais_subset['Draught'].mean()}\")\n",
    "print(f\"Standard deviation: {ais_subset['Draught'].std()}\")\n",
    "print(f\"Minimum: {ais_subset['Draught'].min()}\")\n",
    "print(f\"Maximum: {ais_subset['Draught'].max()}\")"
   ]
  },
  {
   "cell_type": "markdown",
   "metadata": {},
   "source": [
    "Find frequency of AIS messages over time."
   ]
  },
  {
   "cell_type": "code",
   "execution_count": 23,
   "metadata": {},
   "outputs": [
    {
     "data": {
      "image/png": "[encoded data removed]",
      "text/plain": [
       "<Figure size 1000x600 with 1 Axes>"
      ]
     },
     "metadata": {},
     "output_type": "display_data"
    }
   ],
   "source": [
    "plt.figure(figsize=(10, 6))\n",
    "plt.hist(ais_subset['Timestamp'], bins=30, color='blue', alpha=0.7)\n",
    "plt.xlabel('Date')\n",
    "plt.ylabel('Frequency')\n",
    "plt.title('Temporal Distribution of AIS Data')\n",
    "plt.show()"
   ]
  }
 ],
 "metadata": {
  "kernelspec": {
   "display_name": "Python 3",
   "language": "python",
   "name": "python3"
  },
  "language_info": {
   "codemirror_mode": {
    "name": "ipython",
    "version": 3
   },
   "file_extension": ".py",
   "mimetype": "text/x-python",
   "name": "python",
   "nbconvert_exporter": "python",
   "pygments_lexer": "ipython3",
   "version": "3.10.4"
  }
 },
 "nbformat": 4,
 "nbformat_minor": 2
}

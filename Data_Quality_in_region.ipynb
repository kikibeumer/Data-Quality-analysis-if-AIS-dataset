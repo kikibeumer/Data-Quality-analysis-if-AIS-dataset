{
 "cells": [
  {
   "cell_type": "markdown",
   "metadata": {},
   "source": [
    "Data quality in a region"
   ]
  },
  {
   "cell_type": "markdown",
   "metadata": {},
   "source": [
    "Run this file in the python environment"
   ]
  },
  {
   "cell_type": "markdown",
   "metadata": {},
   "source": [
    "__________________________________________________"
   ]
  },
  {
   "cell_type": "markdown",
   "metadata": {},
   "source": [
    "Import the csv datafile here."
   ]
  },
  {
   "cell_type": "markdown",
   "metadata": {},
   "source": [
    "In the file explorer right click the dataset and copy path, then paste between the \"...\""
   ]
  },
  {
   "cell_type": "markdown",
   "metadata": {},
   "source": [
    "Any backslashes should be replaced by double backslash."
   ]
  },
  {
   "cell_type": "markdown",
   "metadata": {},
   "source": [
    "Make sure that the csv file is seperated by commas."
   ]
  },
  {
   "cell_type": "code",
   "execution_count": 2,
   "metadata": {},
   "outputs": [
    {
     "name": "stderr",
     "output_type": "stream",
     "text": [
      "C:\\Users\\CYTech Student\\AppData\\Local\\Temp\\ipykernel_6316\\11124247.py:3: DtypeWarning: Columns (4,9) have mixed types. Specify dtype option on import or set low_memory=False.\n",
      "  ais = pd.read_csv(\"Dataset.csv\",sep=\",\") # Paste the datafile here\n"
     ]
    },
    {
     "data": {
      "text/html": [
       "<div>\n",
       "<style scoped>\n",
       "    .dataframe tbody tr th:only-of-type {\n",
       "        vertical-align: middle;\n",
       "    }\n",
       "\n",
       "    .dataframe tbody tr th {\n",
       "        vertical-align: top;\n",
       "    }\n",
       "\n",
       "    .dataframe thead th {\n",
       "        text-align: right;\n",
       "    }\n",
       "</style>\n",
       "<table border=\"1\" class=\"dataframe\">\n",
       "  <thead>\n",
       "    <tr style=\"text-align: right;\">\n",
       "      <th></th>\n",
       "      <th>Timestamp</th>\n",
       "      <th>Packet Type</th>\n",
       "      <th>Channel</th>\n",
       "      <th>Message Type</th>\n",
       "      <th>MMSI</th>\n",
       "      <th>Navigation Status</th>\n",
       "      <th>Repeat Indicator</th>\n",
       "      <th>IMO</th>\n",
       "      <th>ROT</th>\n",
       "      <th>SOG</th>\n",
       "      <th>...</th>\n",
       "      <th>ETA</th>\n",
       "      <th>A</th>\n",
       "      <th>B</th>\n",
       "      <th>C</th>\n",
       "      <th>D</th>\n",
       "      <th>Prop message 1</th>\n",
       "      <th>Prop message 2</th>\n",
       "      <th>Prop message 3</th>\n",
       "      <th>Prop message 4</th>\n",
       "      <th>Prop message 5</th>\n",
       "    </tr>\n",
       "  </thead>\n",
       "  <tbody>\n",
       "    <tr>\n",
       "      <th>0</th>\n",
       "      <td>2023-10-28 07:17:51.000</td>\n",
       "      <td>BSVDM</td>\n",
       "      <td>A</td>\n",
       "      <td>1.0</td>\n",
       "      <td>353246000</td>\n",
       "      <td>Underway using engine</td>\n",
       "      <td>0.0</td>\n",
       "      <td>0.0</td>\n",
       "      <td>0.0</td>\n",
       "      <td>12.5</td>\n",
       "      <td>...</td>\n",
       "      <td>NaN</td>\n",
       "      <td>0.0</td>\n",
       "      <td>0.0</td>\n",
       "      <td>0.0</td>\n",
       "      <td>0.0</td>\n",
       "      <td>NaN</td>\n",
       "      <td>NaN</td>\n",
       "      <td>NaN</td>\n",
       "      <td>NaN</td>\n",
       "      <td>NaN</td>\n",
       "    </tr>\n",
       "    <tr>\n",
       "      <th>1</th>\n",
       "      <td>2023-10-28 07:17:51.278</td>\n",
       "      <td>BSVDO</td>\n",
       "      <td>A</td>\n",
       "      <td>4.0</td>\n",
       "      <td>2579991</td>\n",
       "      <td>NaN</td>\n",
       "      <td>0.0</td>\n",
       "      <td>0.0</td>\n",
       "      <td>NaN</td>\n",
       "      <td>NaN</td>\n",
       "      <td>...</td>\n",
       "      <td>2023-10-28 07:12:19</td>\n",
       "      <td>0.0</td>\n",
       "      <td>0.0</td>\n",
       "      <td>0.0</td>\n",
       "      <td>0.0</td>\n",
       "      <td>NaN</td>\n",
       "      <td>NaN</td>\n",
       "      <td>NaN</td>\n",
       "      <td>NaN</td>\n",
       "      <td>NaN</td>\n",
       "    </tr>\n",
       "    <tr>\n",
       "      <th>2</th>\n",
       "      <td>2023-10-28 07:17:52.488</td>\n",
       "      <td>BSADS</td>\n",
       "      <td>NaN</td>\n",
       "      <td>NaN</td>\n",
       "      <td>NaN</td>\n",
       "      <td>NaN</td>\n",
       "      <td>NaN</td>\n",
       "      <td>NaN</td>\n",
       "      <td>NaN</td>\n",
       "      <td>NaN</td>\n",
       "      <td>...</td>\n",
       "      <td>NaN</td>\n",
       "      <td>NaN</td>\n",
       "      <td>NaN</td>\n",
       "      <td>NaN</td>\n",
       "      <td>NaN</td>\n",
       "      <td>STX564855481005</td>\n",
       "      <td>71220.0</td>\n",
       "      <td>V</td>\n",
       "      <td>0.0</td>\n",
       "      <td>I</td>\n",
       "    </tr>\n",
       "    <tr>\n",
       "      <th>3</th>\n",
       "      <td>2023-10-28 07:17:52.657</td>\n",
       "      <td>BSVDM</td>\n",
       "      <td>A</td>\n",
       "      <td>1.0</td>\n",
       "      <td>431697000</td>\n",
       "      <td>Underway using engine</td>\n",
       "      <td>0.0</td>\n",
       "      <td>0.0</td>\n",
       "      <td>0.0</td>\n",
       "      <td>11.3</td>\n",
       "      <td>...</td>\n",
       "      <td>NaN</td>\n",
       "      <td>0.0</td>\n",
       "      <td>0.0</td>\n",
       "      <td>0.0</td>\n",
       "      <td>0.0</td>\n",
       "      <td>NaN</td>\n",
       "      <td>NaN</td>\n",
       "      <td>NaN</td>\n",
       "      <td>NaN</td>\n",
       "      <td>NaN</td>\n",
       "    </tr>\n",
       "    <tr>\n",
       "      <th>4</th>\n",
       "      <td>2023-10-28 07:17:53.519</td>\n",
       "      <td>PSTXI</td>\n",
       "      <td>NaN</td>\n",
       "      <td>NaN</td>\n",
       "      <td>NaN</td>\n",
       "      <td>NaN</td>\n",
       "      <td>NaN</td>\n",
       "      <td>NaN</td>\n",
       "      <td>NaN</td>\n",
       "      <td>NaN</td>\n",
       "      <td>...</td>\n",
       "      <td>NaN</td>\n",
       "      <td>NaN</td>\n",
       "      <td>NaN</td>\n",
       "      <td>NaN</td>\n",
       "      <td>NaN</td>\n",
       "      <td>INFO</td>\n",
       "      <td>2.0</td>\n",
       "      <td>0</td>\n",
       "      <td>0.0</td>\n",
       "      <td>1</td>\n",
       "    </tr>\n",
       "  </tbody>\n",
       "</table>\n",
       "<p>5 rows × 34 columns</p>\n",
       "</div>"
      ],
      "text/plain": [
       "                 Timestamp Packet Type Channel  Message Type       MMSI  \\\n",
       "0  2023-10-28 07:17:51.000       BSVDM       A           1.0  353246000   \n",
       "1  2023-10-28 07:17:51.278       BSVDO       A           4.0    2579991   \n",
       "2  2023-10-28 07:17:52.488       BSADS     NaN           NaN        NaN   \n",
       "3  2023-10-28 07:17:52.657       BSVDM       A           1.0  431697000   \n",
       "4  2023-10-28 07:17:53.519       PSTXI     NaN           NaN        NaN   \n",
       "\n",
       "       Navigation Status  Repeat Indicator  IMO  ROT   SOG  ...  \\\n",
       "0  Underway using engine               0.0  0.0  0.0  12.5  ...   \n",
       "1                    NaN               0.0  0.0  NaN   NaN  ...   \n",
       "2                    NaN               NaN  NaN  NaN   NaN  ...   \n",
       "3  Underway using engine               0.0  0.0  0.0  11.3  ...   \n",
       "4                    NaN               NaN  NaN  NaN   NaN  ...   \n",
       "\n",
       "                   ETA    A    B    C    D   Prop message 1 Prop message 2  \\\n",
       "0                  NaN  0.0  0.0  0.0  0.0              NaN            NaN   \n",
       "1  2023-10-28 07:12:19  0.0  0.0  0.0  0.0              NaN            NaN   \n",
       "2                  NaN  NaN  NaN  NaN  NaN  STX564855481005        71220.0   \n",
       "3                  NaN  0.0  0.0  0.0  0.0              NaN            NaN   \n",
       "4                  NaN  NaN  NaN  NaN  NaN             INFO            2.0   \n",
       "\n",
       "   Prop message 3  Prop message 4  Prop message 5  \n",
       "0             NaN             NaN             NaN  \n",
       "1             NaN             NaN             NaN  \n",
       "2               V             0.0               I  \n",
       "3             NaN             NaN             NaN  \n",
       "4               0             0.0               1  \n",
       "\n",
       "[5 rows x 34 columns]"
      ]
     },
     "execution_count": 2,
     "metadata": {},
     "output_type": "execute_result"
    }
   ],
   "source": [
    "import pandas as pd\n",
    "\n",
    "ais = pd.read_csv(\"Dataset.csv\",sep=\",\") # Paste the datafile here\n",
    "ais.head()"
   ]
  },
  {
   "cell_type": "markdown",
   "metadata": {},
   "source": [
    "The columns needed for this analysis are: \"Error\", \"MMSI\", \"Position Accuracy\", \"Latitude\", \"Longitude\""
   ]
  },
  {
   "cell_type": "markdown",
   "metadata": {},
   "source": [
    "Subset the dataset for a specific region"
   ]
  },
  {
   "cell_type": "code",
   "execution_count": 3,
   "metadata": {},
   "outputs": [],
   "source": [
    "ais_subset = ais[ais[\"Region\"]=='QH69']"
   ]
  },
  {
   "cell_type": "markdown",
   "metadata": {},
   "source": [
    "Check how many error messages the dataset has."
   ]
  },
  {
   "cell_type": "code",
   "execution_count": null,
   "metadata": {},
   "outputs": [],
   "source": [
    "ais_subset[ais_subset[\"Error\"].notna()][\"Error\"].value_counts()\n",
    "\n",
    "# The output will be the number of error messages"
   ]
  },
  {
   "cell_type": "markdown",
   "metadata": {},
   "source": [
    "Count the values in the ”Accuracy Position” column per unique vessel"
   ]
  },
  {
   "cell_type": "code",
   "execution_count": 5,
   "metadata": {},
   "outputs": [
    {
     "data": {
      "text/html": [
       "<div>\n",
       "<style scoped>\n",
       "    .dataframe tbody tr th:only-of-type {\n",
       "        vertical-align: middle;\n",
       "    }\n",
       "\n",
       "    .dataframe tbody tr th {\n",
       "        vertical-align: top;\n",
       "    }\n",
       "\n",
       "    .dataframe thead th {\n",
       "        text-align: right;\n",
       "    }\n",
       "</style>\n",
       "<table border=\"1\" class=\"dataframe\">\n",
       "  <thead>\n",
       "    <tr style=\"text-align: right;\">\n",
       "      <th>Position Accuracy</th>\n",
       "      <th>&lt;10m</th>\n",
       "      <th>&gt;10m</th>\n",
       "    </tr>\n",
       "    <tr>\n",
       "      <th>MMSI</th>\n",
       "      <th></th>\n",
       "      <th></th>\n",
       "    </tr>\n",
       "  </thead>\n",
       "  <tbody>\n",
       "    <tr>\n",
       "      <th>205776000.0</th>\n",
       "      <td>0</td>\n",
       "      <td>694</td>\n",
       "    </tr>\n",
       "    <tr>\n",
       "      <th>209034000.0</th>\n",
       "      <td>0</td>\n",
       "      <td>3451</td>\n",
       "    </tr>\n",
       "    <tr>\n",
       "      <th>209271000.0</th>\n",
       "      <td>0</td>\n",
       "      <td>91</td>\n",
       "    </tr>\n",
       "    <tr>\n",
       "      <th>209317000.0</th>\n",
       "      <td>0</td>\n",
       "      <td>400</td>\n",
       "    </tr>\n",
       "    <tr>\n",
       "      <th>209623000.0</th>\n",
       "      <td>0</td>\n",
       "      <td>1090</td>\n",
       "    </tr>\n",
       "    <tr>\n",
       "      <th>...</th>\n",
       "      <td>...</td>\n",
       "      <td>...</td>\n",
       "    </tr>\n",
       "    <tr>\n",
       "      <th>636093017</th>\n",
       "      <td>0</td>\n",
       "      <td>2355</td>\n",
       "    </tr>\n",
       "    <tr>\n",
       "      <th>636093025</th>\n",
       "      <td>0</td>\n",
       "      <td>2689</td>\n",
       "    </tr>\n",
       "    <tr>\n",
       "      <th>636093050</th>\n",
       "      <td>0</td>\n",
       "      <td>2020</td>\n",
       "    </tr>\n",
       "    <tr>\n",
       "      <th>636093157</th>\n",
       "      <td>0</td>\n",
       "      <td>2404</td>\n",
       "    </tr>\n",
       "    <tr>\n",
       "      <th>636093180</th>\n",
       "      <td>0</td>\n",
       "      <td>3345</td>\n",
       "    </tr>\n",
       "  </tbody>\n",
       "</table>\n",
       "<p>2072 rows × 2 columns</p>\n",
       "</div>"
      ],
      "text/plain": [
       "Position Accuracy  <10m  >10m\n",
       "MMSI                         \n",
       "205776000.0           0   694\n",
       "209034000.0           0  3451\n",
       "209271000.0           0    91\n",
       "209317000.0           0   400\n",
       "209623000.0           0  1090\n",
       "...                 ...   ...\n",
       "636093017             0  2355\n",
       "636093025             0  2689\n",
       "636093050             0  2020\n",
       "636093157             0  2404\n",
       "636093180             0  3345\n",
       "\n",
       "[2072 rows x 2 columns]"
      ]
     },
     "execution_count": 5,
     "metadata": {},
     "output_type": "execute_result"
    }
   ],
   "source": [
    "cont_table = pd.crosstab(ais_subset['MMSI'], ais_subset['Position Accuracy'])\n",
    "cont_table"
   ]
  },
  {
   "cell_type": "markdown",
   "metadata": {},
   "source": [
    "Export the table to csv file if needed"
   ]
  },
  {
   "cell_type": "code",
   "execution_count": 6,
   "metadata": {},
   "outputs": [],
   "source": [
    "output_filename = 'Contiguency_table_position_accuracy.csv'\n",
    "cont_table.to_csv(output_filename, index=False) \n",
    "# This file will be saved in the same directory as this script."
   ]
  },
  {
   "cell_type": "markdown",
   "metadata": {},
   "source": [
    "Check if there are any message that were reported to be on land ( This accuracy is between 100 meter and 1 kilometer.The Global Land Mask library is quite reliable for general applications. It may not be perfect for applications requiring very fine spatial accuracy near coastlines or in areas with complex geographic features.)"
   ]
  },
  {
   "cell_type": "markdown",
   "metadata": {},
   "source": [
    "Install the library:"
   ]
  },
  {
   "cell_type": "code",
   "execution_count": 10,
   "metadata": {},
   "outputs": [
    {
     "name": "stdout",
     "output_type": "stream",
     "text": [
      "Note: you may need to restart the kernel to use updated packages.Requirement already satisfied: global_land_mask in c:\\programs files\\python\\python310\\lib\\site-packages (1.0.0)\n",
      "\n"
     ]
    },
    {
     "name": "stderr",
     "output_type": "stream",
     "text": [
      "WARNING: You are using pip version 22.0.4; however, version 24.2 is available.\n",
      "You should consider upgrading via the 'c:\\Programs Files\\Python\\Python310\\python.exe -m pip install --upgrade pip' command.\n"
     ]
    }
   ],
   "source": [
    "pip install global_land_mask"
   ]
  },
  {
   "cell_type": "code",
   "execution_count": 15,
   "metadata": {},
   "outputs": [
    {
     "name": "stderr",
     "output_type": "stream",
     "text": [
      "C:\\Users\\CYTech Student\\AppData\\Local\\Temp\\ipykernel_6316\\2481843197.py:5: SettingWithCopyWarning: \n",
      "A value is trying to be set on a copy of a slice from a DataFrame.\n",
      "Try using .loc[row_indexer,col_indexer] = value instead\n",
      "\n",
      "See the caveats in the documentation: https://pandas.pydata.org/pandas-docs/stable/user_guide/indexing.html#returning-a-view-versus-a-copy\n",
      "  ais_subset['Is Land'] = ais_subset.apply(lambda row: globe.is_land(row['Latitude'], row['Longitude']), axis=1)\n"
     ]
    },
    {
     "data": {
      "text/plain": [
       "0    False\n",
       "1    False\n",
       "3    False\n",
       "7    False\n",
       "8    False\n",
       "Name: Is Land, dtype: bool"
      ]
     },
     "execution_count": 15,
     "metadata": {},
     "output_type": "execute_result"
    }
   ],
   "source": [
    "from global_land_mask import globe\n",
    "\n",
    "# Apply the globe.is_land function row-wise to create the 'Is Land' column\n",
    "# The column will have boolean values\n",
    "ais_subset['Is Land'] = ais_subset.apply(lambda row: globe.is_land(row['Latitude'], row['Longitude']), axis=1)\n",
    "\n",
    "# Check for the results\n",
    "ais_subset[\"Is Land\"].head()"
   ]
  },
  {
   "cell_type": "markdown",
   "metadata": {},
   "source": [
    "Count the values in the ”Is Land” column."
   ]
  },
  {
   "cell_type": "code",
   "execution_count": 16,
   "metadata": {},
   "outputs": [
    {
     "data": {
      "text/html": [
       "<div>\n",
       "<style scoped>\n",
       "    .dataframe tbody tr th:only-of-type {\n",
       "        vertical-align: middle;\n",
       "    }\n",
       "\n",
       "    .dataframe tbody tr th {\n",
       "        vertical-align: top;\n",
       "    }\n",
       "\n",
       "    .dataframe thead th {\n",
       "        text-align: right;\n",
       "    }\n",
       "</style>\n",
       "<table border=\"1\" class=\"dataframe\">\n",
       "  <thead>\n",
       "    <tr style=\"text-align: right;\">\n",
       "      <th></th>\n",
       "      <th>Is Land</th>\n",
       "      <th>Count</th>\n",
       "    </tr>\n",
       "  </thead>\n",
       "  <tbody>\n",
       "    <tr>\n",
       "      <th>0</th>\n",
       "      <td>False</td>\n",
       "      <td>4701770</td>\n",
       "    </tr>\n",
       "    <tr>\n",
       "      <th>1</th>\n",
       "      <td>True</td>\n",
       "      <td>29758</td>\n",
       "    </tr>\n",
       "  </tbody>\n",
       "</table>\n",
       "</div>"
      ],
      "text/plain": [
       "   Is Land    Count\n",
       "0    False  4701770\n",
       "1     True    29758"
      ]
     },
     "execution_count": 16,
     "metadata": {},
     "output_type": "execute_result"
    }
   ],
   "source": [
    "island_table = ais_subset['Is Land'].value_counts().reset_index()\n",
    "island_table.columns = ['Is Land', 'Count']\n",
    "\n",
    "island_table"
   ]
  }
 ],
 "metadata": {
  "kernelspec": {
   "display_name": "Python 3",
   "language": "python",
   "name": "python3"
  },
  "language_info": {
   "codemirror_mode": {
    "name": "ipython",
    "version": 3
   },
   "file_extension": ".py",
   "mimetype": "text/x-python",
   "name": "python",
   "nbconvert_exporter": "python",
   "pygments_lexer": "ipython3",
   "version": "3.10.4"
  }
 },
 "nbformat": 4,
 "nbformat_minor": 2
}
